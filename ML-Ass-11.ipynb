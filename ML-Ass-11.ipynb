{
 "cells": [
  {
   "cell_type": "code",
   "execution_count": null,
   "id": "f9f7afb5",
   "metadata": {},
   "outputs": [],
   "source": [
    "pip install scikit-learn-extra pandas matplotlib     "
   ]
  },
  {
   "cell_type": "code",
   "execution_count": null,
   "id": "6b0a5d04",
   "metadata": {},
   "outputs": [],
   "source": [
    "\n",
    "\n",
    "\n",
    "\n",
    "import pandas as pd\n",
    "import matplotlib.pyplot as plt\n",
    "from sklearn_extra.cluster import KMedoids\n",
    "\n",
    "\n",
    "df = pd.read_csv(r\"C:\\Users\\Saurabh Adhav\\OneDrive\\Desktop\\Machine Learning\\Assignment 10\\Mall_Customers.csv\")\n",
    "\n",
    "\n",
    "X = df[['Annual Income (k$)', 'Spending Score (1-100)']].values\n",
    "\n",
    "\n",
    "kmedoids = KMedoids(n_clusters=5, metric='manhattan', random_state=42)\n",
    "kmedoids.fit(X)\n",
    "\n",
    "\n",
    "labels = kmedoids.labels_\n",
    "medoids = kmedoids.cluster_centers_\n",
    "\n",
    "\n",
    "plt.figure(figsize=(8,6))\n",
    "plt.scatter(X[:, 0], X[:, 1], c=labels, cmap='viridis', alpha=0.6)\n",
    "plt.scatter(medoids[:, 0], medoids[:, 1], c='red', marker='X', s=200, label='Medoids')\n",
    "plt.xlabel(\"Annual Income (k$)\")\n",
    "plt.ylabel(\"Spending Score (1-100)\")\n",
    "plt.title(\"Customer Segmentation using K-Medoids\")\n",
    "plt.legend()\n",
    "plt.show()\n"
   ]
  },
  {
   "cell_type": "code",
   "execution_count": null,
   "id": "9f0c82a9",
   "metadata": {},
   "outputs": [],
   "source": []
  }
 ],
 "metadata": {
  "kernelspec": {
   "display_name": "Python 3 (ipykernel)",
   "language": "python",
   "name": "python3"
  },
  "language_info": {
   "codemirror_mode": {
    "name": "ipython",
    "version": 3
   },
   "file_extension": ".py",
   "mimetype": "text/x-python",
   "name": "python",
   "nbconvert_exporter": "python",
   "pygments_lexer": "ipython3",
   "version": "3.11.5"
  }
 },
 "nbformat": 4,
 "nbformat_minor": 5
}
